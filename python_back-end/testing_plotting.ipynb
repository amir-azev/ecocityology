{
 "cells": [
  {
   "cell_type": "code",
   "execution_count": 2,
   "metadata": {},
   "outputs": [],
   "source": [
    "%reload_ext autoreload\n",
    "%autoreload 2\n",
    "\n",
    "# The above lines reload external modules rather than needing to restart the kernel"
   ]
  },
  {
   "cell_type": "code",
   "execution_count": 3,
   "metadata": {},
   "outputs": [],
   "source": [
    "# import modules\n",
    "import numpy as np\n",
    "import matplotlib.pyplot as plt\n",
    "from matplotlib.patches import Rectangle,Circle,Polygon\n",
    "from scipy.spatial import Voronoi, voronoi_plot_2d"
   ]
  },
  {
   "cell_type": "markdown",
   "metadata": {},
   "source": [
    "Could we scale this by population. So the city size if a function of the population"
   ]
  },
  {
   "cell_type": "code",
   "execution_count": 4,
   "metadata": {},
   "outputs": [],
   "source": [
    "# set firm variables\n",
    "side_length = 1000  # city size in meters\n"
   ]
  },
  {
   "cell_type": "code",
   "execution_count": 8,
   "metadata": {},
   "outputs": [],
   "source": [
    "def place_building(ax,building_type, x, y, dimensions,rotation):\n",
    "    \"\"\"\n",
    "    This function places a building of a given type at a given location with a given width and height.\n",
    "    \"\"\"\n",
    "    if building_type == 'residential':\n",
    "        color = 'blue'\n",
    "    elif building_type == 'commercial':\n",
    "        color = 'red'\n",
    "    elif building_type == 'industrial':\n",
    "        color = 'grey'\n",
    "    else:\n",
    "        color = 'black'\n",
    "\n",
    "    if dimensions[0] == \"circle\":\n",
    "        radius = dimensions[1]\n",
    "        building_patch = Circle((x, y), width, height, color=color, alpha=0.5)\n",
    "    elif dimensions[0] == \"rectangle\":\n",
    "        p_func = Rectangle\n",
    "        width = dimensions[1]\n",
    "        height = dimensions[2]\n",
    "        basecorners = np.array([[0,0],[width,0],[width,height],[0,height]])\n",
    "        rot_matrix = np.array([[np.cos(rotation),-np.sin(rotation)],[np.sin(rotation),np.cos(rotation)]])\n",
    "        corners = np.dot(basecorners,rot_matrix) + np.array([x,y])\n",
    "        building_patch = Polygon(corners, color=color, alpha=0.5)\n",
    "\n",
    "    ax.add_patch(building_patch)\n",
    "    \n",
    "    \n",
    "    "
   ]
  },
  {
   "cell_type": "code",
   "execution_count": null,
   "metadata": {},
   "outputs": [],
   "source": [
    "def add_req_buildings(ax,req_buildings,side_length):\n",
    "    return"
   ]
  },
  {
   "cell_type": "code",
   "execution_count": 5,
   "metadata": {},
   "outputs": [],
   "source": [
    "def add_buildings(ax, num_buildings, side_length):\n",
    "    centroids = []  # list to store centroids of buildings\n",
    "    for i in range(num_buildings):\n",
    "        # generate random building parameters\n",
    "        x = np.random.uniform(0, side_length)\n",
    "        y = np.random.uniform(0, side_length)\n",
    "        width = np.random.uniform(10, 50)\n",
    "        height = np.random.uniform(10, 50)\n",
    "        color = np.random.rand(3)\n",
    "        # add building to the city\n",
    "        building = Rectangle((x, y), width, height, facecolor=color)\n",
    "        # Check for overlap with existing buildings\n",
    "        overlap = False\n",
    "        for patch in ax.patches:\n",
    "            if isinstance(patch, Rectangle):\n",
    "                if (x < patch.get_x() + patch.get_width() and x + width > patch.get_x() and\n",
    "                    y < patch.get_y() + patch.get_height() and y + height > patch.get_y()):\n",
    "                    overlap = True\n",
    "                    break\n",
    "        if not overlap:\n",
    "            ax.add_patch(building)\n",
    "            # calculate and store the centroid\n",
    "            centroid_x = x + width / 2\n",
    "            centroid_y = y + height / 2\n",
    "            centroids.append((centroid_x, centroid_y))\n",
    "    return centroids\n",
    "        \n",
    "def add_circle_buildings(ax, num_circles, side_length):\n",
    "    for _ in range(num_circles):\n",
    "        # generate random circle parameters\n",
    "        x = np.random.uniform(0, side_length)\n",
    "        y = np.random.uniform(0, side_length)\n",
    "        radius = np.random.uniform(5, 25)\n",
    "        color = np.random.rand(3)\n",
    "        # add circle to the city\n",
    "        circle = Circle((x, y), radius, facecolor=color)\n",
    "        # Check for overlap with existing buildings\n",
    "        overlap = False\n",
    "        for patch in ax.patches:\n",
    "            if isinstance(patch, Rectangle) or isinstance(patch, Circle):\n",
    "                if isinstance(patch, Rectangle):\n",
    "                    if (x - radius < patch.get_x() + patch.get_width() and x + radius > patch.get_x() and\n",
    "                        y - radius < patch.get_y() + patch.get_height() and y + radius > patch.get_y()):\n",
    "                        overlap = True\n",
    "                        break\n",
    "                elif isinstance(patch, Circle):\n",
    "                    dist = np.sqrt((x - patch.center[0])**2 + (y - patch.center[1])**2)\n",
    "                    if dist < radius + patch.radius:\n",
    "                        overlap = True\n",
    "                        break\n",
    "        if not overlap:\n",
    "            ax.add_patch(circle)"
   ]
  },
  {
   "cell_type": "code",
   "execution_count": 12,
   "metadata": {},
   "outputs": [
    {
     "data": {
      "image/png": "[encoded data removed]",
      "text/plain": [
       "<Figure size 1000x1000 with 1 Axes>"
      ]
     },
     "metadata": {},
     "output_type": "display_data"
    }
   ],
   "source": [
    "from scipy.spatial import Delaunay\n",
    "\n",
    "fig, ax = plt.subplots(figsize=(10, 10))\n",
    "\n",
    "# create a plot\n",
    "ax.set_xlim([0, side_length])   # set the x-axis limits\n",
    "ax.set_ylim([0, side_length])   # set the y-axis limits\n",
    "ax.set_aspect('equal')  # make the x and y axes have the same scale\n",
    "\n",
    "# centroids = add_buildings(ax, 10, side_length)\n",
    "# vor = Voronoi(centroids)\n",
    "# voronoi_plot_2d(vor, ax=ax)\n",
    "\n",
    "place_building(ax,'residential', 100, 900, [\"rectangle\",50,50],1.1)\n",
    "\n",
    "plt.show()"
   ]
  },
  {
   "cell_type": "code",
   "execution_count": 41,
   "metadata": {},
   "outputs": [],
   "source": [
    "import json\n",
    "\n",
    "# output the map\n",
    "fig.savefig('city_map.png', dpi=300)\n",
    "\n",
    "# output the data\n",
    "# Extract Voronoi vertices (junctions)\n",
    "junctions = vor.vertices.tolist()\n",
    "\n",
    "# Create adjacency matrix\n",
    "num_junctions = len(junctions)\n",
    "adjacency_matrix = np.zeros((num_junctions, num_junctions))\n",
    "\n",
    "# Fill the adjacency matrix\n",
    "for ridge in vor.ridge_vertices:\n",
    "    if -1 not in ridge:  # Ignore ridges at infinity\n",
    "        i, j = ridge\n",
    "        adjacency_matrix[i, j] = adjacency_matrix[j, i] = 1\n",
    "\n",
    "# Convert adjacency matrix to list for JSON serialization\n",
    "adjacency_matrix = adjacency_matrix.tolist()\n",
    "\n",
    "# Store building information\n",
    "buildings = []\n",
    "for patch in ax.patches:\n",
    "    if isinstance(patch, Rectangle):\n",
    "        building_info = {\n",
    "            'type': 'rectangle',\n",
    "            'x': patch.get_x(),\n",
    "            'y': patch.get_y(),\n",
    "            'width': patch.get_width(),\n",
    "            'height': patch.get_height(),\n",
    "            'color': list(patch.get_facecolor()),\n",
    "            'centroid': [patch.get_x() + patch.get_width() / 2, patch.get_y() + patch.get_height() / 2],\n",
    "            'building_height': np.random.uniform(10, 100)  # Assign a random height to each building\n",
    "        }\n",
    "    elif isinstance(patch, Circle):\n",
    "        building_info = {\n",
    "            'type': 'circle',\n",
    "            'x': patch.center[0],\n",
    "            'y': patch.center[1],\n",
    "            'radius': patch.radius,\n",
    "            'color': list(patch.get_facecolor()),\n",
    "            'centroid': [patch.center[0], patch.center[1]],\n",
    "            'building_height': np.random.uniform(10, 100)  # Assign a random height to each building\n",
    "        }\n",
    "    buildings.append(building_info)\n",
    "\n",
    "# Create a dictionary to store the data\n",
    "data = {\n",
    "    'junctions': junctions,\n",
    "    'adjacency_matrix': adjacency_matrix,\n",
    "    'buildings': buildings\n",
    "}\n",
    "\n",
    "# Output the data to a JSON file\n",
    "with open('city_data.json', 'w') as f:\n",
    "    json.dump(data, f)"
   ]
  }
 ],
 "metadata": {
  "kernelspec": {
   "display_name": "Python 3",
   "language": "python",
   "name": "python3"
  },
  "language_info": {
   "codemirror_mode": {
    "name": "ipython",
    "version": 3
   },
   "file_extension": ".py",
   "mimetype": "text/x-python",
   "name": "python",
   "nbconvert_exporter": "python",
   "pygments_lexer": "ipython3",
   "version": "3.10.11"
  }
 },
 "nbformat": 4,
 "nbformat_minor": 2
}
